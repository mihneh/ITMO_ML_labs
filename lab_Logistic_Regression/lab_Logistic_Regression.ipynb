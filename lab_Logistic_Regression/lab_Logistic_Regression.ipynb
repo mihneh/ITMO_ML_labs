{
  "nbformat": 4,
  "nbformat_minor": 0,
  "metadata": {
    "colab": {
      "provenance": []
    },
    "kernelspec": {
      "name": "python3",
      "display_name": "Python 3"
    },
    "language_info": {
      "name": "python"
    }
  },
  "cells": [
    {
      "cell_type": "markdown",
      "source": [
        "В прилагаемом файле представлены данные, собранные путем голосования за самые лучшие (или, по крайней мере, самые популярные) конфеты Хэллоуина. Обучите модель логистической регрессии. В качестве предикторов выступают поля: chocolate, fruity, caramel, peanutyalmondy, nougat, crispedricewafer, hard, bar, pluribus, sugarpercent, pricepercent, отклик — Y."
      ],
      "metadata": {
        "id": "L7amlRg9dg8X"
      }
    },
    {
      "cell_type": "markdown",
      "source": [
        "В качестве тренировочного набора данных используйте данные из файла, за иключением следующих конфет: Mike & Ike, Root Beer Barrels, Starburst. Обучите модель."
      ],
      "metadata": {
        "id": "aPbcNy67djaD"
      }
    },
    {
      "cell_type": "markdown",
      "source": [
        "Обучите модель и выполните предсказание для всех конфет из прилагаемого файла тестовых данных."
      ],
      "metadata": {
        "id": "YvCUf4F2dmrQ"
      }
    },
    {
      "cell_type": "markdown",
      "source": [
        "Найти:\n",
        "- Вероятность отнесения конфеты Werthers Original Caramel к классу 1\n",
        "- Вероятность отнесения конфеты Super Bubble к классу 1"
      ],
      "metadata": {
        "id": "JrumZs3Qdpnc"
      }
    },
    {
      "cell_type": "markdown",
      "source": [
        "Выполнить оценку модели с помощью матрицы ошибок и рассчитать следующие параметры при пороге отсечения (Treshhold) 0.5:\n",
        "- Значение Recall, или TPR для тестового набора данных\n",
        "- Значение Precision для тестового набора данных\n",
        "- Значение AUC для тестового набора данных"
      ],
      "metadata": {
        "id": "7ol3pO5zd3Jn"
      }
    },
    {
      "cell_type": "code",
      "source": [
        "import numpy as np\n",
        "import pandas as pd\n",
        "import sklearn as sk\n",
        "from sklearn.linear_model import LogisticRegression\n",
        "from sklearn.metrics import roc_auc_score"
      ],
      "metadata": {
        "id": "dyeAfs9qeghH"
      },
      "execution_count": 2,
      "outputs": []
    },
    {
      "cell_type": "code",
      "source": [
        "data = pd.read_csv('https://raw.githubusercontent.com/mihneh/ITMO_ML_labs/main/lab_Logistic_Regression/candy-data.csv', index_col='competitorname')\n",
        "exclude_rows = ['Mike & Ike', 'Root Beer Barrels', 'Starburst']\n",
        "training_data = data.drop(index=exclude_rows)\n",
        "X = training_data.drop(columns=['winpercent', 'Y']).values\n",
        "y = training_data[['Y']].values\n",
        "\n",
        "test_data = pd.read_csv('https://raw.githubusercontent.com/mihneh/ITMO_ML_labs/main/lab_Logistic_Regression/candy-test.csv', index_col='competitorname')\n",
        "test_data_X = test_data.drop(columns=['Y'])\n",
        "test_data_y = test_data[['Y']]\n",
        "clf = LogisticRegression(random_state = 2019, solver = 'lbfgs').fit(X, y.T.ravel())\n",
        "# print(y.T.shape)\n",
        "# print(X.shape)\n",
        "candy = ['Werthers Original Caramel', 'Super Bubble']\n",
        "for i in range(2):\n",
        "    P = clf.predict_proba(test_data_X.loc[candy[i]].values.reshape(1,-1))\n",
        "    print('Вероятность отнесения конфеты \"', candy[i],\n",
        "          '\" к классам ', clf.classes_, ':', P)"
      ],
      "metadata": {
        "colab": {
          "base_uri": "https://localhost:8080/"
        },
        "id": "vc72dHXFejnY",
        "outputId": "dc34e6ef-c097-428d-b574-73158c2b7e7f"
      },
      "execution_count": 3,
      "outputs": [
        {
          "output_type": "stream",
          "name": "stdout",
          "text": [
            "Вероятность отнесения конфеты \" Werthers Original Caramel \" к классам  [0 1] : [[0.44772981 0.55227019]]\n",
            "Вероятность отнесения конфеты \" Super Bubble \" к классам  [0 1] : [[0.68384254 0.31615746]]\n"
          ]
        }
      ]
    },
    {
      "cell_type": "code",
      "source": [
        "y_pred = clf.predict(test_data_X.values)\n",
        "TP = 0\n",
        "FP = 0\n",
        "FN = 0\n",
        "TN = 0\n",
        "for i in range(len(y_pred)):\n",
        "    if (y_pred[i] == test_data_y.values.ravel()[i]) & (y_pred[i] == 1) & (test_data_y.values.ravel()[i] == 1):\n",
        "        TP += 1\n",
        "    elif (y_pred[i] == test_data_y.values.ravel()[i]) & (y_pred[i] == 0) & (test_data_y.values.ravel()[i] == 0):\n",
        "        TN += 1\n",
        "    elif (y_pred[i] != test_data_y.values.ravel()[i]) & (y_pred[i] == 1) & (test_data_y.values.ravel()[i] == 0):\n",
        "        FP += 1\n",
        "    elif (y_pred[i] != test_data_y.values.ravel()[i]) & (y_pred[i] == 0) & (test_data_y.values.ravel()[i] == 1):\n",
        "        FN += 1\n",
        "print('Recall (TPR): ', TP/(TP + FN))\n",
        "print('Precision: ', TP/(TP + FP))\n",
        "\n",
        "P = clf.predict_proba(test_data_X.values)\n",
        "print(P)\n",
        "print('AUC: ', roc_auc_score(test_data_y.values.ravel(), P[:,1]))"
      ],
      "metadata": {
        "colab": {
          "base_uri": "https://localhost:8080/"
        },
        "id": "vSdjGU5ye8Id",
        "outputId": "1a18f92c-5a77-416f-bb21-c3d3598c55bc"
      },
      "execution_count": 5,
      "outputs": [
        {
          "output_type": "stream",
          "name": "stdout",
          "text": [
            "Recall (TPR):  0.6\n",
            "Precision:  0.5\n",
            "[[0.71594192 0.28405808]\n",
            " [0.63528759 0.36471241]\n",
            " [0.68384254 0.31615746]\n",
            " [0.62250565 0.37749435]\n",
            " [0.23045546 0.76954454]\n",
            " [0.32030031 0.67969969]\n",
            " [0.34503045 0.65496955]\n",
            " [0.21929811 0.78070189]\n",
            " [0.66761086 0.33238914]\n",
            " [0.59013561 0.40986439]\n",
            " [0.67357349 0.32642651]\n",
            " [0.86494578 0.13505422]\n",
            " [0.66861619 0.33138381]\n",
            " [0.44772981 0.55227019]\n",
            " [0.2418998  0.7581002 ]]\n",
            "AUC:  0.8799999999999999\n"
          ]
        }
      ]
    }
  ]
}